{
 "cells": [
  {
   "cell_type": "code",
   "execution_count": 3,
   "metadata": {},
   "outputs": [
    {
     "name": "stdout",
     "output_type": "stream",
     "text": [
      "Requirement already satisfied: pyspark==3.3.1 in /home/kai/Documents/PROJETOS/twitter_extractor_airflow/venv/lib/python3.9/site-packages (3.3.1)\n",
      "Requirement already satisfied: py4j==0.10.9.5 in /home/kai/Documents/PROJETOS/twitter_extractor_airflow/venv/lib/python3.9/site-packages (from pyspark==3.3.1) (0.10.9.5)\n",
      "\n",
      "\u001b[1m[\u001b[0m\u001b[34;49mnotice\u001b[0m\u001b[1;39;49m]\u001b[0m\u001b[39;49m A new release of pip is available: \u001b[0m\u001b[31;49m23.0.1\u001b[0m\u001b[39;49m -> \u001b[0m\u001b[32;49m24.2\u001b[0m\n",
      "\u001b[1m[\u001b[0m\u001b[34;49mnotice\u001b[0m\u001b[1;39;49m]\u001b[0m\u001b[39;49m To update, run: \u001b[0m\u001b[32;49mpip install --upgrade pip\u001b[0m\n",
      "Note: you may need to restart the kernel to use updated packages.\n"
     ]
    }
   ],
   "source": [
    "%pip install pyspark==3.3.1"
   ]
  },
  {
   "cell_type": "code",
   "execution_count": 1,
   "metadata": {},
   "outputs": [],
   "source": [
    "from pyspark.sql import SparkSession\n",
    "from pyspark.sql import functions as f"
   ]
  },
  {
   "cell_type": "code",
   "execution_count": 2,
   "metadata": {},
   "outputs": [
    {
     "name": "stdout",
     "output_type": "stream",
     "text": [
      "24/09/03 21:29:54 WARN Utils: Your hostname, kaiwangairflow resolves to a loopback address: 127.0.1.1; using 192.168.2.128 instead (on interface ens33)\n",
      "24/09/03 21:29:54 WARN Utils: Set SPARK_LOCAL_IP if you need to bind to another address\n"
     ]
    },
    {
     "name": "stderr",
     "output_type": "stream",
     "text": [
      "Setting default log level to \"WARN\".\n",
      "To adjust logging level use sc.setLogLevel(newLevel). For SparkR, use setLogLevel(newLevel).\n"
     ]
    },
    {
     "name": "stdout",
     "output_type": "stream",
     "text": [
      "24/09/03 21:29:54 WARN NativeCodeLoader: Unable to load native-hadoop library for your platform... using builtin-java classes where applicable\n"
     ]
    }
   ],
   "source": [
    "spark = (SparkSession.builder\n",
    "         .appName('GOLD_TRANSFORM_T')\n",
    "         .getOrCreate()\n",
    "         )"
   ]
  },
  {
   "cell_type": "code",
   "execution_count": 3,
   "metadata": {},
   "outputs": [
    {
     "name": "stderr",
     "output_type": "stream",
     "text": [
      "                                                                                \r"
     ]
    },
    {
     "name": "stdout",
     "output_type": "stream",
     "text": [
      "+---------+---------------+--------------------+---+----------+-----------+-----------+-------------+--------------------+------------+\n",
      "|author_id|conversation_id|          created_at| id|like_count|quote_count|reply_count|retweet_count|                text|process_data|\n",
      "+---------+---------------+--------------------+---+----------+-----------+-----------+-------------+--------------------+------------+\n",
      "|       60|             79|2024-08-27T13:28:...| 58|        12|         88|          4|           16|Este é um tweet f...|    20240827|\n",
      "|       48|             37|2024-08-27T13:45:...| 65|        38|         76|         53|           16|Outro tweet fictí...|    20240827|\n",
      "|        9|             34|2024-08-27T23:37:...| 66|        27|         67|         96|           45|Este é um tweet f...|    20240827|\n",
      "|       63|             25|2024-08-27T20:26:...| 40|        99|         52|         82|            9|Tweet fictício cr...|    20240827|\n",
      "|       29|             51|2024-08-27T10:11:...| 91|        57|         73|         92|           34|Tweet fictício cr...|    20240827|\n",
      "|       40|             80|2024-08-27T00:03:...| 15|        83|         30|          8|           57|Tweet fictício cr...|    20240827|\n",
      "|       92|             58|2024-08-27T01:00:...| 14|        29|         94|         37|           34|Tweet fictício ge...|    20240827|\n",
      "|       90|             70|2024-08-27T05:56:...| 60|        74|         79|         11|           10|Tweet fictício cr...|    20240827|\n",
      "|       74|             95|2024-08-27T01:10:...| 36|        54|         50|         21|           29|Este é um tweet f...|    20240827|\n",
      "|        4|             27|2024-08-27T17:23:...|  4|        19|         63|         91|           63|Este é um tweet f...|    20240827|\n",
      "|       26|             16|2024-08-27T10:44:...| 37|        79|         99|         48|            3|Tweet fictício ge...|    20240827|\n",
      "|       88|             15|2024-08-27T14:36:...| 41|        43|         79|         48|           14|Um terceiro tweet...|    20240827|\n",
      "|       76|             13|2024-08-27T17:29:...| 96|        39|         94|         35|           87|Este é um tweet f...|    20240827|\n",
      "|       17|             61|2024-08-27T07:33:...| 25|        35|         70|          5|           72|Tweet fictício cr...|    20240827|\n",
      "|       78|             10|2024-08-27T19:33:...| 93|        36|         74|         40|            3|Um terceiro tweet...|    20240827|\n",
      "|       31|             49|2024-08-27T12:58:...| 44|        68|         95|         98|           89|Outro tweet fictí...|    20240827|\n",
      "|       17|             51|2024-08-27T00:58:...| 96|        98|         37|          8|           57|Tweet fictício ge...|    20240827|\n",
      "|        5|             35|2024-08-27T18:49:...| 12|         9|          8|         46|           66|Este é um tweet f...|    20240827|\n",
      "|       54|             68|2024-08-27T04:58:...| 86|        45|         80|         30|           61|Este é um tweet f...|    20240827|\n",
      "|        6|             73|2024-08-27T19:51:...| 20|        93|         44|         24|           13|Um terceiro tweet...|    20240827|\n",
      "+---------+---------------+--------------------+---+----------+-----------+-----------+-------------+--------------------+------------+\n",
      "only showing top 20 rows\n",
      "\n"
     ]
    }
   ],
   "source": [
    "twitter_df = spark.read.json(\"../../datalake/silver/data_engineer/twitter_df\")\n",
    "twitter_df.show()"
   ]
  },
  {
   "cell_type": "markdown",
   "metadata": {},
   "source": []
  },
  {
   "cell_type": "code",
   "execution_count": 4,
   "metadata": {},
   "outputs": [
    {
     "name": "stdout",
     "output_type": "stream",
     "text": [
      "+-----------+----------+------+-------+-------+---------+-------+\n",
      "|create_date|n_usuarios|n_like|n_quote|n_reply|n_retweet|weekday|\n",
      "+-----------+----------+------+-------+-------+---------+-------+\n",
      "| 2024-08-27|       101| 50683|  50721|  49669|    50369|    Tue|\n",
      "| 2024-08-30|       101| 48237|  49790|  48952|    49033|    Fri|\n",
      "| 2024-08-29|       101| 51141|  50796|  49886|    51928|    Thu|\n",
      "| 2024-09-03|       101| 50107|  48395|  49080|    50704|    Tue|\n",
      "| 2024-09-01|        10|   508|    525|    553|      548|    Sun|\n",
      "| 2024-08-25|       101| 49700|  50407|  50549|    51976|    Sun|\n",
      "| 2024-09-02|         9|   500|    411|    380|      445|    Mon|\n",
      "| 2024-08-19|        10|   622|    650|    516|      511|    Mon|\n",
      "| 2024-08-24|       101| 48924|  50231|  49560|    52036|    Sat|\n",
      "| 2024-08-23|       101| 48580|  50821|  48759|    50210|    Fri|\n",
      "| 2024-08-31|         9|   471|    489|    480|      524|    Sat|\n",
      "| 2024-08-21|        10|   545|    551|    388|      397|    Wed|\n",
      "| 2024-08-28|       101| 49374|  50004|  49425|    49084|    Wed|\n",
      "| 2024-08-20|       101| 51457|  51032|  49085|    50970|    Tue|\n",
      "| 2024-08-26|        10|   390|    434|    466|      487|    Mon|\n",
      "| 2024-08-22|       101| 49098|  49490|  49092|    48923|    Thu|\n",
      "+-----------+----------+------+-------+-------+---------+-------+\n",
      "\n"
     ]
    }
   ],
   "source": [
    "rank_tweet = (twitter_df\n",
    "              .alias('tweet')\n",
    "              .groupBy(f.to_date('created_at').alias(\"create_date\")).agg(\n",
    "                    f.countDistinct('author_id').alias('n_usuarios'),\n",
    "                    f.sum('like_count').alias('n_like'),\n",
    "                    f.sum('quote_count').alias('n_quote'),\n",
    "                    f.sum('reply_count').alias('n_reply'),\n",
    "                    f.sum('retweet_count').alias('n_retweet')\n",
    "                ).withColumn('weekday', f.date_format('create_date', 'E')))\n",
    "\n",
    "rank_tweet.show()"
   ]
  },
  {
   "cell_type": "code",
   "execution_count": 5,
   "metadata": {},
   "outputs": [],
   "source": [
    "rank_tweet.coalesce(1).write.mode('overwrite').json('../../datalake/gold/data_engineer/twitter_df')"
   ]
  },
  {
   "cell_type": "code",
   "execution_count": null,
   "metadata": {},
   "outputs": [],
   "source": []
  }
 ],
 "metadata": {
  "kernelspec": {
   "display_name": "venv",
   "language": "python",
   "name": "python3"
  },
  "language_info": {
   "codemirror_mode": {
    "name": "ipython",
    "version": 3
   },
   "file_extension": ".py",
   "mimetype": "text/x-python",
   "name": "python",
   "nbconvert_exporter": "python",
   "pygments_lexer": "ipython3",
   "version": "3.9.19"
  }
 },
 "nbformat": 4,
 "nbformat_minor": 2
}
