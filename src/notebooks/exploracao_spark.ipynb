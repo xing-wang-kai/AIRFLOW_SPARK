{
 "cells": [
  {
   "cell_type": "markdown",
   "metadata": {},
   "source": [
    "## INTALANDO SPARK"
   ]
  },
  {
   "cell_type": "code",
   "execution_count": 1,
   "metadata": {},
   "outputs": [
    {
     "name": "stdout",
     "output_type": "stream",
     "text": [
      "Requirement already satisfied: pyspark==3.3.1 in /home/kai/Documents/PROJETOS/twitter_extractor_airflow/venv/lib/python3.9/site-packages (3.3.1)\n",
      "Requirement already satisfied: py4j==0.10.9.5 in /home/kai/Documents/PROJETOS/twitter_extractor_airflow/venv/lib/python3.9/site-packages (from pyspark==3.3.1) (0.10.9.5)\n",
      "\n",
      "\u001b[1m[\u001b[0m\u001b[34;49mnotice\u001b[0m\u001b[1;39;49m]\u001b[0m\u001b[39;49m A new release of pip is available: \u001b[0m\u001b[31;49m23.0.1\u001b[0m\u001b[39;49m -> \u001b[0m\u001b[32;49m24.2\u001b[0m\n",
      "\u001b[1m[\u001b[0m\u001b[34;49mnotice\u001b[0m\u001b[1;39;49m]\u001b[0m\u001b[39;49m To update, run: \u001b[0m\u001b[32;49mpip install --upgrade pip\u001b[0m\n",
      "Note: you may need to restart the kernel to use updated packages.\n"
     ]
    }
   ],
   "source": [
    "%pip install pyspark==3.3.1"
   ]
  },
  {
   "cell_type": "markdown",
   "metadata": {},
   "source": [
    "### IMPORTS \n",
    "\n",
    "importando informações para criar uam spark session"
   ]
  },
  {
   "cell_type": "code",
   "execution_count": 2,
   "metadata": {},
   "outputs": [],
   "source": [
    "from pyspark.sql import SparkSession\n",
    "from pyspark.sql import functions as f\n",
    "\n",
    "from scripts.load_silver_functions import *"
   ]
  },
  {
   "cell_type": "markdown",
   "metadata": {},
   "source": [
    "### CRIANDO UMA SESSION"
   ]
  },
  {
   "cell_type": "code",
   "execution_count": 3,
   "metadata": {},
   "outputs": [
    {
     "name": "stdout",
     "output_type": "stream",
     "text": [
      "24/09/02 19:27:05 WARN Utils: Your hostname, kaiwangairflow resolves to a loopback address: 127.0.1.1; using 192.168.2.128 instead (on interface ens33)\n",
      "24/09/02 19:27:05 WARN Utils: Set SPARK_LOCAL_IP if you need to bind to another address\n"
     ]
    },
    {
     "name": "stderr",
     "output_type": "stream",
     "text": [
      "Setting default log level to \"WARN\".\n",
      "To adjust logging level use sc.setLogLevel(newLevel). For SparkR, use setLogLevel(newLevel).\n"
     ]
    },
    {
     "name": "stdout",
     "output_type": "stream",
     "text": [
      "24/09/02 19:27:06 WARN NativeCodeLoader: Unable to load native-hadoop library for your platform... using builtin-java classes where applicable\n"
     ]
    }
   ],
   "source": [
    "spark = SparkSession\\\n",
    "    .builder\\\n",
    "    .appName(\"twitter_transformation\")\\\n",
    "    .getOrCreate()"
   ]
  },
  {
   "cell_type": "markdown",
   "metadata": {},
   "source": [
    "#### LENDO ARQUIVOS JSON"
   ]
  },
  {
   "cell_type": "code",
   "execution_count": 4,
   "metadata": {},
   "outputs": [
    {
     "name": "stderr",
     "output_type": "stream",
     "text": [
      "                                                                                \r"
     ]
    }
   ],
   "source": [
    "df = spark.read.json(\"../../datalake/twitter_dataengineer\")"
   ]
  },
  {
   "cell_type": "code",
   "execution_count": 5,
   "metadata": {},
   "outputs": [
    {
     "name": "stdout",
     "output_type": "stream",
     "text": [
      "+--------------------+--------------------+------------------+------------+\n",
      "|                data|            includes|              meta|extract_date|\n",
      "+--------------------+--------------------+------------------+------------+\n",
      "|[{89, 3, 2024-08-...|{[{2024-08-23T21:...|{1234567890abcdef}|  2024-08-23|\n",
      "|[{30, 18, 2024-08...|{[{2024-08-23T04:...|{1234567890abcdef}|  2024-08-23|\n",
      "|[{58, 13, 2024-08...|{[{2024-08-23T17:...|              null|  2024-08-23|\n",
      "|[{46, 77, 2024-08...|{[{2024-08-23T03:...|{1234567890abcdef}|  2024-08-23|\n",
      "|[{32, 73, 2024-08...|{[{2024-08-23T23:...|{1234567890abcdef}|  2024-08-23|\n",
      "|[{42, 100, 2024-0...|{[{2024-08-23T13:...|              null|  2024-08-23|\n",
      "|[{38, 69, 2024-08...|{[{2024-08-23T16:...|              null|  2024-08-23|\n",
      "|[{91, 12, 2024-08...|{[{2024-08-23T15:...|              null|  2024-08-23|\n",
      "|[{58, 51, 2024-08...|{[{2024-08-23T19:...|              null|  2024-08-23|\n",
      "|[{48, 22, 2024-08...|{[{2024-08-23T01:...|{1234567890abcdef}|  2024-08-23|\n",
      "|[{33, 60, 2024-08...|{[{2024-08-23T11:...|{1234567890abcdef}|  2024-08-23|\n",
      "|[{99, 90, 2024-08...|{[{2024-08-23T01:...|              null|  2024-08-23|\n",
      "|[{86, 40, 2024-08...|{[{2024-08-23T06:...|{1234567890abcdef}|  2024-08-23|\n",
      "|[{30, 74, 2024-08...|{[{2024-08-23T10:...|              null|  2024-08-23|\n",
      "|[{40, 39, 2024-08...|{[{2024-08-23T13:...|{1234567890abcdef}|  2024-08-23|\n",
      "|[{80, 57, 2024-08...|{[{2024-08-23T23:...|{1234567890abcdef}|  2024-08-23|\n",
      "|[{85, 4, 2024-08-...|{[{2024-08-23T20:...|              null|  2024-08-23|\n",
      "|[{14, 100, 2024-0...|{[{2024-08-23T14:...|{1234567890abcdef}|  2024-08-23|\n",
      "|[{90, 80, 2024-08...|{[{2024-08-23T00:...|              null|  2024-08-23|\n",
      "|[{10, 23, 2024-08...|{[{2024-08-23T02:...|              null|  2024-08-23|\n",
      "+--------------------+--------------------+------------------+------------+\n",
      "only showing top 20 rows\n",
      "\n"
     ]
    }
   ],
   "source": [
    "df.show()"
   ]
  },
  {
   "cell_type": "code",
   "execution_count": 6,
   "metadata": {},
   "outputs": [
    {
     "name": "stdout",
     "output_type": "stream",
     "text": [
      "root\n",
      " |-- data: array (nullable = true)\n",
      " |    |-- element: struct (containsNull = true)\n",
      " |    |    |-- author_id: string (nullable = true)\n",
      " |    |    |-- conversation_id: string (nullable = true)\n",
      " |    |    |-- created_at: string (nullable = true)\n",
      " |    |    |-- edit_history_tweet_ids: array (nullable = true)\n",
      " |    |    |    |-- element: long (containsNull = true)\n",
      " |    |    |-- id: string (nullable = true)\n",
      " |    |    |-- in_reply_to_user_id: string (nullable = true)\n",
      " |    |    |-- lang: string (nullable = true)\n",
      " |    |    |-- public_metrics: struct (nullable = true)\n",
      " |    |    |    |-- like_count: long (nullable = true)\n",
      " |    |    |    |-- quote_count: long (nullable = true)\n",
      " |    |    |    |-- reply_count: long (nullable = true)\n",
      " |    |    |    |-- retweet_count: long (nullable = true)\n",
      " |    |    |-- text: string (nullable = true)\n",
      " |-- includes: struct (nullable = true)\n",
      " |    |-- users: array (nullable = true)\n",
      " |    |    |-- element: struct (containsNull = true)\n",
      " |    |    |    |-- created_at: string (nullable = true)\n",
      " |    |    |    |-- id: string (nullable = true)\n",
      " |    |    |    |-- name: string (nullable = true)\n",
      " |    |    |    |-- username: string (nullable = true)\n",
      " |-- meta: struct (nullable = true)\n",
      " |    |-- next_token: string (nullable = true)\n",
      " |-- extract_date: date (nullable = true)\n",
      "\n"
     ]
    }
   ],
   "source": [
    "df.printSchema()"
   ]
  },
  {
   "cell_type": "code",
   "execution_count": 7,
   "metadata": {},
   "outputs": [
    {
     "name": "stdout",
     "output_type": "stream",
     "text": [
      "root\n",
      " |-- col: struct (nullable = true)\n",
      " |    |-- author_id: string (nullable = true)\n",
      " |    |-- conversation_id: string (nullable = true)\n",
      " |    |-- created_at: string (nullable = true)\n",
      " |    |-- edit_history_tweet_ids: array (nullable = true)\n",
      " |    |    |-- element: long (containsNull = true)\n",
      " |    |-- id: string (nullable = true)\n",
      " |    |-- in_reply_to_user_id: string (nullable = true)\n",
      " |    |-- lang: string (nullable = true)\n",
      " |    |-- public_metrics: struct (nullable = true)\n",
      " |    |    |-- like_count: long (nullable = true)\n",
      " |    |    |-- quote_count: long (nullable = true)\n",
      " |    |    |-- reply_count: long (nullable = true)\n",
      " |    |    |-- retweet_count: long (nullable = true)\n",
      " |    |-- text: string (nullable = true)\n",
      "\n"
     ]
    }
   ],
   "source": [
    "df.select(f.explode(\"data\")).printSchema()"
   ]
  },
  {
   "cell_type": "code",
   "execution_count": 8,
   "metadata": {},
   "outputs": [
    {
     "name": "stdout",
     "output_type": "stream",
     "text": [
      "+--------------------+\n",
      "|                 col|\n",
      "+--------------------+\n",
      "|{89, 3, 2024-08-2...|\n",
      "|{97, 83, 2024-08-...|\n",
      "|{54, 18, 2024-08-...|\n",
      "|{4, 79, 2024-08-2...|\n",
      "|{74, 15, 2024-08-...|\n",
      "|{1, 73, 2024-08-2...|\n",
      "|{80, 21, 2024-08-...|\n",
      "|{19, 3, 2024-08-2...|\n",
      "|{5, 21, 2024-08-2...|\n",
      "|{70, 51, 2024-08-...|\n",
      "|{30, 18, 2024-08-...|\n",
      "|{15, 40, 2024-08-...|\n",
      "|{96, 60, 2024-08-...|\n",
      "|{85, 42, 2024-08-...|\n",
      "|{18, 10, 2024-08-...|\n",
      "|{14, 98, 2024-08-...|\n",
      "|{99, 58, 2024-08-...|\n",
      "|{76, 65, 2024-08-...|\n",
      "|{18, 84, 2024-08-...|\n",
      "|{6, 3, 2024-08-23...|\n",
      "+--------------------+\n",
      "only showing top 20 rows\n",
      "\n"
     ]
    }
   ],
   "source": [
    "df.select(f.explode(\"data\")).show()"
   ]
  },
  {
   "cell_type": "code",
   "execution_count": 9,
   "metadata": {},
   "outputs": [
    {
     "name": "stdout",
     "output_type": "stream",
     "text": [
      "root\n",
      " |-- author_id: string (nullable = true)\n",
      " |-- conversation_id: string (nullable = true)\n",
      " |-- created_at: string (nullable = true)\n",
      " |-- id: string (nullable = true)\n",
      " |-- like_count: long (nullable = true)\n",
      " |-- quote_count: long (nullable = true)\n",
      " |-- reply_count: long (nullable = true)\n",
      " |-- retweet_count: long (nullable = true)\n",
      " |-- text: string (nullable = true)\n",
      "\n"
     ]
    }
   ],
   "source": [
    "df.select(f.explode(\"data\").alias(\"tweets\"))\\\n",
    ".select(\"tweets.author_id\", \"tweets.conversation_id\",\n",
    "        \"tweets.created_at\", \"tweets.id\",\n",
    "        \"tweets.public_metrics.*\", \"tweets.text\").printSchema()"
   ]
  },
  {
   "cell_type": "code",
   "execution_count": 10,
   "metadata": {},
   "outputs": [],
   "source": [
    "tweet_df = get_tweeters(df)"
   ]
  },
  {
   "cell_type": "code",
   "execution_count": 11,
   "metadata": {},
   "outputs": [
    {
     "name": "stdout",
     "output_type": "stream",
     "text": [
      "+---------+---------------+--------------------+---+----------+-----------+-----------+-------------+--------------------+\n",
      "|author_id|conversation_id|          created_at| id|like_count|quote_count|reply_count|retweet_count|                text|\n",
      "+---------+---------------+--------------------+---+----------+-----------+-----------+-------------+--------------------+\n",
      "|       89|              3|2024-08-23T04:43:...| 78|        52|         36|         59|           95|Outro tweet fictí...|\n",
      "|       97|             83|2024-08-23T07:20:...|  0|        86|          9|         73|           88|Tweet fictício ge...|\n",
      "|       54|             18|2024-08-23T04:43:...|100|        37|         23|         64|            3|Um terceiro tweet...|\n",
      "|        4|             79|2024-08-23T06:29:...| 30|        49|         88|         88|           27|Tweet fictício cr...|\n",
      "|       74|             15|2024-08-23T20:11:...| 88|        12|         90|         48|           30|Um terceiro tweet...|\n",
      "|        1|             73|2024-08-23T10:08:...| 60|        49|         37|         33|           18|Outro tweet fictí...|\n",
      "|       80|             21|2024-08-23T00:56:...| 96|        89|         43|         89|            1|Este é um tweet f...|\n",
      "|       19|              3|2024-08-23T17:09:...| 10|        19|         49|          6|           59|Tweet fictício ge...|\n",
      "|        5|             21|2024-08-23T10:51:...|100|        35|         19|         35|           85|Outro tweet fictí...|\n",
      "|       70|             51|2024-08-23T19:41:...| 96|        43|         73|         57|           22|Tweet fictício ge...|\n",
      "|       30|             18|2024-08-23T16:34:...| 77|        13|         68|         99|           12|Tweet fictício cr...|\n",
      "|       15|             40|2024-08-23T14:17:...| 50|        16|         89|         25|           64|Tweet fictício ge...|\n",
      "|       96|             60|2024-08-23T10:17:...| 88|         3|         72|         78|           51|Tweet fictício cr...|\n",
      "|       85|             42|2024-08-23T11:10:...| 68|        49|         87|         93|           99|Um terceiro tweet...|\n",
      "|       18|             10|2024-08-23T05:12:...| 17|        93|         21|         91|           63|Tweet fictício ge...|\n",
      "|       14|             98|2024-08-23T17:19:...| 96|        91|         54|         38|           17|Tweet fictício ge...|\n",
      "|       99|             58|2024-08-23T13:45:...| 73|        34|         17|         15|           92|Um terceiro tweet...|\n",
      "|       76|             65|2024-08-23T04:20:...| 71|        19|          7|         14|           43|Um terceiro tweet...|\n",
      "|       18|             84|2024-08-23T14:29:...| 65|        95|         45|         59|           86|Tweet fictício ge...|\n",
      "|        6|              3|2024-08-23T23:46:...| 38|        31|         63|         50|           83|Este é um tweet f...|\n",
      "+---------+---------------+--------------------+---+----------+-----------+-----------+-------------+--------------------+\n",
      "only showing top 20 rows\n",
      "\n"
     ]
    }
   ],
   "source": [
    "tweet_df.show()"
   ]
  },
  {
   "cell_type": "code",
   "execution_count": 12,
   "metadata": {},
   "outputs": [
    {
     "name": "stdout",
     "output_type": "stream",
     "text": [
      "root\n",
      " |-- col: struct (nullable = true)\n",
      " |    |-- created_at: string (nullable = true)\n",
      " |    |-- id: string (nullable = true)\n",
      " |    |-- name: string (nullable = true)\n",
      " |    |-- username: string (nullable = true)\n",
      "\n"
     ]
    }
   ],
   "source": [
    "df.select(f.explode(\"includes.users\")).printSchema()\n",
    "\n",
    "\n"
   ]
  },
  {
   "cell_type": "code",
   "execution_count": 13,
   "metadata": {},
   "outputs": [],
   "source": [
    "users_df = get_users(df)"
   ]
  },
  {
   "cell_type": "code",
   "execution_count": 14,
   "metadata": {},
   "outputs": [
    {
     "name": "stdout",
     "output_type": "stream",
     "text": [
      "+--------------------+---+-------+--------+\n",
      "|          created_at| id|   name|username|\n",
      "+--------------------+---+-------+--------+\n",
      "|2024-08-23T21:36:...| 48| User 1|   user1|\n",
      "|2024-08-23T14:48:...| 67| User 2|   user2|\n",
      "|2024-08-23T09:15:...| 89| User 3|   user3|\n",
      "|2024-08-23T22:34:...| 99| User 4|   user4|\n",
      "|2024-08-23T04:47:...| 47| User 5|   user5|\n",
      "|2024-08-23T20:19:...| 15| User 6|   user6|\n",
      "|2024-08-23T21:22:...|  4| User 7|   user7|\n",
      "|2024-08-23T04:03:...| 48| User 8|   user8|\n",
      "|2024-08-23T09:34:...| 90| User 9|   user9|\n",
      "|2024-08-23T11:49:...| 35|User 10|  user10|\n",
      "|2024-08-23T04:03:...| 92| User 1|   user1|\n",
      "|2024-08-23T08:20:...| 84| User 2|   user2|\n",
      "|2024-08-23T22:38:...| 57| User 3|   user3|\n",
      "|2024-08-23T08:55:...| 61| User 4|   user4|\n",
      "|2024-08-23T18:28:...| 79| User 5|   user5|\n",
      "|2024-08-23T18:51:...| 48| User 6|   user6|\n",
      "|2024-08-23T14:51:...| 40| User 7|   user7|\n",
      "|2024-08-23T18:08:...| 32| User 8|   user8|\n",
      "|2024-08-23T16:22:...| 84| User 9|   user9|\n",
      "|2024-08-23T16:51:...| 45|User 10|  user10|\n",
      "+--------------------+---+-------+--------+\n",
      "only showing top 20 rows\n",
      "\n"
     ]
    }
   ],
   "source": [
    "users_df.show()"
   ]
  },
  {
   "cell_type": "code",
   "execution_count": 15,
   "metadata": {},
   "outputs": [],
   "source": [
    "tweet_df.coalesce(1).write.mode(\"overwrite\").json('output/tweet')\n",
    "users_df.coalesce(1).write.mode(\"overwrite\").json('output/user')"
   ]
  }
 ],
 "metadata": {
  "kernelspec": {
   "display_name": "venv",
   "language": "python",
   "name": "python3"
  },
  "language_info": {
   "codemirror_mode": {
    "name": "ipython",
    "version": 3
   },
   "file_extension": ".py",
   "mimetype": "text/x-python",
   "name": "python",
   "nbconvert_exporter": "python",
   "pygments_lexer": "ipython3",
   "version": "3.9.19"
  }
 },
 "nbformat": 4,
 "nbformat_minor": 2
}
